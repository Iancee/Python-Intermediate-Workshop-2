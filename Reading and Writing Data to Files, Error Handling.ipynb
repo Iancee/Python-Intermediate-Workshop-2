{
 "cells": [
  {
   "cell_type": "markdown",
   "metadata": {},
   "source": [
    "# Reading and Writing Data with CSV\n",
    "\n",
    "Python has some built in modules/functions for reading and writing data to files.  We'll be using the csv module to practice reading data from and writing data to csv files to help us with some GIS data analysis/management.\n",
    "\n",
    "The module has functions to create reader and writer Python objects.  These can be used to access data in a csv file, or write data to a csv file.\n",
    "\n",
    "Python documentation page: https://docs.python.org/3/library/csv.html\n"
   ]
  },
  {
   "cell_type": "code",
   "execution_count": null,
   "metadata": {},
   "outputs": [],
   "source": [
    "#To read from a csv file, we need to open the file, then create a reader object.\n",
    "#Once we have a reader object, we can iterate through it to access the data\n",
    "\n",
    "import csv\n",
    "\n",
    "pizza_csv = r\"C:\\Users\\ian.conroy\\Desktop\\Bay Geo Classes\\Python Class\\Intermediate Class Fall\\Session 2\\Pizza Restaurants.csv\"\n",
    "\n",
    "with open(pizza_csv, newline='') as csvfile:\n",
    "    pizzareader = csv.reader(csvfile)\n",
    "    for row in pizzareader:\n",
    "        print(type(row), row)\n",
    "        "
   ]
  },
  {
   "cell_type": "code",
   "execution_count": null,
   "metadata": {},
   "outputs": [],
   "source": [
    "print(row[0], row[-2], row[-1])"
   ]
  },
  {
   "cell_type": "code",
   "execution_count": null,
   "metadata": {},
   "outputs": [],
   "source": [
    "#We can also use the DictReader to create Python dictionaries out of each row in the csv file\n",
    "\n",
    "with open(pizza_csv, newline='') as csvfile:\n",
    "    pizzadict_reader = csv.DictReader(csvfile)\n",
    "    for row in pizzadict_reader:\n",
    "        print(type(row), row)"
   ]
  },
  {
   "cell_type": "code",
   "execution_count": null,
   "metadata": {},
   "outputs": [],
   "source": [
    "row[0]"
   ]
  },
  {
   "cell_type": "code",
   "execution_count": null,
   "metadata": {},
   "outputs": [],
   "source": [
    "row['Name']"
   ]
  },
  {
   "cell_type": "code",
   "execution_count": null,
   "metadata": {},
   "outputs": [],
   "source": [
    "pizzadict_reader.fieldnames"
   ]
  },
  {
   "cell_type": "code",
   "execution_count": null,
   "metadata": {},
   "outputs": [],
   "source": [
    "#We can also write data to a csv from Python\n",
    "\n",
    "sample_data = [{'Name':'Firehouse Pizzeria', 'Address':'6001 CALIFORNIA ST', 'City':'SAN FRANCISCO', 'State':'CA', 'Zipcode':'94121', 'Neighborhood':' ', 'Lat':'37.78402', 'Long':'-122.481953'},\n",
    "              {'Name':'Take One Pizza', 'Address':'1028 MISSION ST', 'City':'SAN FRANCISCO', 'State':'CA', 'Zipcode':'94103', 'Neighborhood':' ', 'Lat':'37.780376', 'Long':'-122.409462'},\n",
    "              {'Name':'Pizza Zone And Grill', 'Address':'4404 3RD ST', 'City':'SAN FRANCISCO', 'State':'CA', 'Zipcode':'94124', 'Neighborhood':'Bayview Hunters Point', 'Lat':'37.737977', 'Long':'-122.389675'}]\n",
    "\n",
    "new_csvfile = r\"C:\\Users\\ian.conroy\\Desktop\\Bay Geo Classes\\Python Class\\Intermediate Class Fall\\Output_Folder\\Pizza Rest Subset.csv\"\n",
    "\n",
    "with open(new_csvfile, 'w', newline='') as newfile:\n",
    "    fieldnames = ['Name', 'Address', 'City', 'State', 'Zipcode', 'Neighborhood', 'Lat', 'Long']\n",
    "    writer = csv.DictWriter(newfile, fieldnames=fieldnames)\n",
    "    writer.writeheader()\n",
    "    writer.writerows(sample_data)\n"
   ]
  },
  {
   "cell_type": "code",
   "execution_count": null,
   "metadata": {},
   "outputs": [],
   "source": [
    "#We can append data to the end of a csv file if we specify 'a' for append \n",
    "additional_data = ['Passione Pizza', '3251 20TH AVE', 'SAN FRANCISCO', 'CA', '94132', ' ', '37.727905', '-122.475605']\n",
    "\n",
    "with open(new_csvfile, 'a', newline='') as newfile:\n",
    "    writer = csv.writer(newfile)\n",
    "    writer.writerow(additional_data)\n"
   ]
  },
  {
   "cell_type": "code",
   "execution_count": null,
   "metadata": {},
   "outputs": [],
   "source": [
    "#A GIS use case for adding domains/domain values to a geodatabase\n",
    "\n",
    "import os\n",
    "import csv\n",
    "import arcpy\n",
    "\n",
    "#Folder to collect domain csv files\n",
    "domain_fld = r\"C:\\Users\\ian.conroy\\Desktop\\Bay Geo Classes\\Python Class\\Intermediate Class Fall\\Session 2\\Domains\"\n",
    "\n",
    "\n",
    "#GDB to add domains to\n",
    "gdb = r\"C:\\Users\\ian.conroy\\Desktop\\Bay Geo Classes\\Python Class\\Intermediate Class Fall\\Session 2\\Sample_Vegetation_AddedDomains.gdb\"\n",
    "\n",
    "#Get list of csv files\n",
    "csv_list = os.listdir(domain_fld)\n",
    "\n",
    "for csv_f in csv_list:\n",
    "    domain_name = csv_f[:-4]\n",
    "    print('Domain:', domain_name)\n",
    "    csv_file = os.path.join(domain_fld, csv_f)\n",
    "    arcpy.CreateDomain_management(gdb, domain_name, \"\", \"TEXT\")\n",
    "    with open(csv_file, newline='') as f:\n",
    "        reader = csv.DictReader(f)\n",
    "        for row in reader:\n",
    "            domain_value = row['Domain_Value']\n",
    "            print(domain_value)\n",
    "            arcpy.AddCodedValueToDomain_management(gdb, domain_name, domain_value, domain_value)\n"
   ]
  },
  {
   "cell_type": "markdown",
   "metadata": {},
   "source": [
    "# Error Handling\n",
    "\n",
    "Sytax errors are the most common type of error and are caused by not using the correct formatting or indenting.  Other times errors are caused not by the way code is written, but how the code is attempting to manipulate some data.  There are ways to catch these types of errors using the Python keywords \"try\" and \"except\".\n",
    "\n",
    "Using the try and except keywords will allow your script to continue past a line of code with an error by choosing a different processing path if an error is encountered.  These work similar to an if else statement.\n",
    "\n",
    "Using try and except can be more efficient than using if/else when working with large datasets because the except statement is only executed when an error occurs, but an if statement is executed every time.\n",
    "\n",
    "EAFP - Easier to Ask for Forgiveness than Permission\n",
    "\n",
    "https://docs.python.org/3/tutorial/errors.html?highlight=try%20except"
   ]
  },
  {
   "cell_type": "code",
   "execution_count": null,
   "metadata": {},
   "outputs": [],
   "source": [
    "#Let's try out some error handling \n",
    "\n",
    "num_list = [1, '2', 3.0, '4.5']\n",
    "\n",
    "sum = 0\n",
    "\n",
    "for num in num_list:\n",
    "    print(num)\n",
    "    sum += num\n",
    "\n",
    "print('Sum is', sum)"
   ]
  },
  {
   "cell_type": "code",
   "execution_count": null,
   "metadata": {},
   "outputs": [],
   "source": [
    "\n",
    "sum = 0\n",
    "\n",
    "for num in num_list:\n",
    "    print(num)\n",
    "    try:\n",
    "        sum += num\n",
    "    except TypeError:\n",
    "        sum += float(num)\n",
    "\n",
    "print('Sum is', sum)"
   ]
  }
 ],
 "metadata": {
  "kernelspec": {
   "display_name": "Python 3",
   "language": "python",
   "name": "python3"
  },
  "language_info": {
   "codemirror_mode": {
    "name": "ipython",
    "version": 3
   },
   "file_extension": ".py",
   "mimetype": "text/x-python",
   "name": "python",
   "nbconvert_exporter": "python",
   "pygments_lexer": "ipython3",
   "version": "3.6.10"
  }
 },
 "nbformat": 4,
 "nbformat_minor": 2
}
