{
 "cells": [
  {
   "cell_type": "markdown",
   "metadata": {},
   "source": [
    "# Reading and Writing Data with CSV\n",
    "\n",
    "Python has some built in modules/functions for reading and writing data to files.  We'll be using the csv module to practice reading data from and writing data to csv files to help us with some GIS data analysis/management.\n",
    "\n",
    "The module has functions to create reader and writer Python objects.  These can be used to access data in a csv file, or write data to a csv file.\n",
    "\n",
    "Python documentation page: https://docs.python.org/3/library/csv.html\n"
   ]
  },
  {
   "cell_type": "code",
   "execution_count": null,
   "metadata": {},
   "outputs": [],
   "source": [
    "#To read from a csv file, we need to open the file, then create a reader object.\n",
    "#Once we have a reader object, we can iterate through it to access the data\n",
    "\n",
    "import csv\n",
    "\n",
    "pizza_csv = r\"C:\\Users\\ian.conroy\\Desktop\\Bay Geo Classes\\Python Class\\Intermediate Class\\Session 2\\Pizza Restaurants.csv\"\n",
    "\n",
    "with open(pizza_csv, newline='') as csvfile:\n",
    "    pizzareader = csv.reader(csvfile)\n",
    "    for row in pizzareader:\n",
    "        print(type(row), row)\n",
    "        "
   ]
  },
  {
   "cell_type": "code",
   "execution_count": null,
   "metadata": {},
   "outputs": [],
   "source": [
    "print(row[0], row[-2], row[-1])"
   ]
  },
  {
   "cell_type": "code",
   "execution_count": null,
   "metadata": {},
   "outputs": [],
   "source": [
    "#We can also use the DictReader to create Python dictionaries out of each row in the csv file\n",
    "\n",
    "with open(pizza_csv, newline='') as csvfile:\n",
    "    pizzadict_reader = csv.DictReader(csvfile)\n",
    "    for row in pizzadict_reader:\n",
    "        print(type(row), row)"
   ]
  },
  {
   "cell_type": "code",
   "execution_count": null,
   "metadata": {},
   "outputs": [],
   "source": [
    "row[0]"
   ]
  },
  {
   "cell_type": "code",
   "execution_count": null,
   "metadata": {},
   "outputs": [],
   "source": [
    "row['Name']"
   ]
  },
  {
   "cell_type": "code",
   "execution_count": null,
   "metadata": {},
   "outputs": [],
   "source": [
    "pizzadict_reader.fieldnames"
   ]
  },
  {
   "cell_type": "code",
   "execution_count": null,
   "metadata": {},
   "outputs": [],
   "source": [
    "#We can also write data to a csv from Python\n",
    "\n",
    "sample_data = [{'Name':'Firehouse Pizzeria', 'Address':'6001 CALIFORNIA ST', 'City':'SAN FRANCISCO', 'State':'CA', 'Zipcode':'94121', 'Neighborhood':' ', 'Lat':'37.78402', 'Long':'-122.481953'},\n",
    "              {'Name':'Take One Pizza', 'Address':'1028 MISSION ST', 'City':'SAN FRANCISCO', 'State':'CA', 'Zipcode':'94103', 'Neighborhood':' ', 'Lat':'37.780376', 'Long':'-122.409462'},\n",
    "              {'Name':'Pizza Zone And Grill', 'Address':'4404 3RD ST', 'City':'SAN FRANCISCO', 'State':'CA', 'Zipcode':'94124', 'Neighborhood':'Bayview Hunters Point', 'Lat':'37.737977', 'Long':'-122.389675'}]\n",
    "\n",
    "new_csvfile = r\"C:\\Users\\ian.conroy\\Desktop\\Bay Geo Classes\\Python Class\\Output_Folder\\Pizza Rest Subset.csv\"\n",
    "\n",
    "with open(new_csvfile, 'w', newline='') as newfile:\n",
    "    fieldnames = ['Name', 'Address', 'City', 'State', 'Zipcode', 'Neighborhood', 'Lat', 'Long']\n",
    "    writer = csv.DictWriter(newfile, fieldnames=fieldnames)\n",
    "    writer.writeheader()\n",
    "    writer.writerows(sample_data)\n"
   ]
  },
  {
   "cell_type": "code",
   "execution_count": null,
   "metadata": {},
   "outputs": [],
   "source": [
    "#We can append data to the end of a csv file if we specify 'a' for append \n",
    "additional_data = ['Passione Pizza', '3251 20TH AVE', 'SAN FRANCISCO', 'CA', '94132', ' ', '37.727905', '-122.475605']\n",
    "\n",
    "with open(new_csvfile, 'a', newline='') as newfile:\n",
    "    writer = csv.writer(newfile)\n",
    "    writer.writerow(additional_data)\n"
   ]
  },
  {
   "cell_type": "code",
   "execution_count": null,
   "metadata": {},
   "outputs": [],
   "source": [
    "#A GIS use case for adding domains/domain values to a geodatabase\n",
    "\n",
    "import os\n",
    "import csv\n",
    "import arcpy\n",
    "\n",
    "#Folder to collect domain csv files\n",
    "domain_fld = r\"C:\\Users\\ian.conroy\\Desktop\\Bay Geo Classes\\Python Class\\Intermediate Class\\Session 2\\Domains\"\n",
    "\n",
    "\n",
    "#GDB to add domains to\n",
    "gdb = r\"C:\\Users\\ian.conroy\\Desktop\\Bay Geo Classes\\Python Class\\Intermediate Class\\Session 2\\Sample_Vegetation_wDomains.gdb\"\n",
    "\n",
    "#Get list of csv files\n",
    "csv_list = os.listdir(domain_fld)\n",
    "\n",
    "for csv_f in csv_list:\n",
    "        domain_name = csv_f[:-4]\n",
    "        csv_file = os.path.join(domain_fld, csv_f)\n",
    "        arcpy.CreateDomain_management(gdb, domain_name, \"\", \"TEXT\")\n",
    "        with open(csv_file, newline='') as f:\n",
    "                reader = csv.DictReader(f)\n",
    "                for row in reader:\n",
    "                        domain_value = row['Domain_Value']\n",
    "                        arcpy.AddCodedValueToDomain_management(gdb, domain_name, domain_value, domain_value)\n"
   ]
  },
  {
   "cell_type": "markdown",
   "metadata": {},
   "source": [
    "# Error Handling\n",
    "\n",
    "Sytax errors are the most common type of error and are caused by not using the correct formatting or indenting.  Other times errors are caused not by the way code is written, but how the code is attempting to manipulate some data.  There are ways to catch these types of errors using the Python keywords \"try\" and \"except\".\n",
    "\n",
    "Using the try and except keywords will allow your script to continue past a line of code with an error by choosing a different processing path if an error is encountered.  These work similar to an if else statement.\n",
    "\n",
    "https://docs.python.org/3/tutorial/errors.html?highlight=try%20except"
   ]
  },
  {
   "cell_type": "code",
   "execution_count": null,
   "metadata": {},
   "outputs": [],
   "source": [
    "#Let's try out some error handling\n",
    "\n",
    "pizza_rest_list = [['Cable Car Pizza', '4704 MISSION ST', 'SAN FRANCISCO', 'CA', '94112', 'Outer Mission', '37.722882', '-122.436178'],\n",
    "                   ['Cable Car Pizza', '464 BROADWAY ST', 'SAN FRANCISCO', 'CA', '94133', '', '', ''],\n",
    "                   ['Geary Street Bella Pizza', '4124 GEARY BLVD', 'SAN FRANCISCO', 'CA', '94118', 'Inner Richmond', \"\"\"37° 46' 51.9708\\\"\"\"\", \"\"\"-122° 27' 49.5828\\\"\"\"\"]]\n",
    "\n",
    "for rest in pizza_rest_list:\n",
    "    print(rest)\n",
    "    print(float(rest[-2]), float(rest[-1]))\n"
   ]
  },
  {
   "cell_type": "code",
   "execution_count": null,
   "metadata": {},
   "outputs": [],
   "source": [
    "#The bottom of the error message prints the type of error that occurred\n",
    "\n",
    "for rest in pizza_rest_list:\n",
    "    print(rest)\n",
    "    try:\n",
    "        print(float(rest[-2]), float(rest[-1]))\n",
    "    except ValueError:\n",
    "        print(\"Not a decimal degree coordinate\")\n"
   ]
  },
  {
   "cell_type": "code",
   "execution_count": null,
   "metadata": {},
   "outputs": [],
   "source": [
    "#Handling multiple errors\n",
    "#An exception handler can only handle exceptions in the corresponding try clause.  You can nest them to catch errors during \n",
    "#attempts to catch other errors\n",
    "\n",
    "badlist = [4, '5', 'six']\n",
    "\n",
    "sum = 0\n",
    "\n",
    "for item in badlist:\n",
    "    try:\n",
    "        sum += item\n",
    "        print(sum)\n",
    "    except TypeError:\n",
    "        try:\n",
    "            sum += int(item)\n",
    "            print(sum)\n",
    "        except ValueError:\n",
    "            print('bad value')"
   ]
  },
  {
   "cell_type": "code",
   "execution_count": null,
   "metadata": {},
   "outputs": [],
   "source": [
    "#You can use multiple exceptions in a tuple\n",
    "\n",
    "sum = 0\n",
    "\n",
    "for item in badlist:\n",
    "    try:\n",
    "        sum += item\n",
    "        print(sum)\n",
    "    except (TypeError, ValueError):\n",
    "        print('bad values')"
   ]
  }
 ],
 "metadata": {
  "kernelspec": {
   "display_name": "Python 3",
   "language": "python",
   "name": "python3"
  },
  "language_info": {
   "codemirror_mode": {
    "name": "ipython",
    "version": 3
   },
   "file_extension": ".py",
   "mimetype": "text/x-python",
   "name": "python",
   "nbconvert_exporter": "python",
   "pygments_lexer": "ipython3",
   "version": "3.6.9"
  }
 },
 "nbformat": 4,
 "nbformat_minor": 2
}
